{
  "nbformat": 4,
  "nbformat_minor": 0,
  "metadata": {
    "colab": {
      "name": "Untitled1.ipynb",
      "provenance": [],
      "include_colab_link": true
    },
    "kernelspec": {
      "name": "python3",
      "display_name": "Python 3"
    }
  },
  "cells": [
    {
      "cell_type": "markdown",
      "metadata": {
        "id": "view-in-github",
        "colab_type": "text"
      },
      "source": [
        "<a href=\"https://colab.research.google.com/github/mehmetalianil/epoch-15/blob/master/Getting%20Started.ipynb\" target=\"_parent\"><img src=\"https://colab.research.google.com/assets/colab-badge.svg\" alt=\"Open In Colab\"/></a>"
      ]
    },
    {
      "cell_type": "markdown",
      "metadata": {
        "id": "3fpMCI8yA47p",
        "colab_type": "text"
      },
      "source": [
        "# First day\n",
        "\n",
        "This day, we are going to do the following: \n",
        "* If not done yet, we need to sort out some prerequisites.\n",
        "* We are going to generate a dataset of hand gestures, together.\n",
        "* We might spend some time to gather and preprocess the data. (Never underestimate time spent for data-prep)\n",
        "* Then we will start a Tensorflow session, and try to solve a classification problem of classifying these gestures correctly.\n",
        "\n",
        "## Resources\n",
        "* Arduino IDE download link https://www.arduino.cc/en/Main/Software\n",
        "*\n",
        "*\n",
        "\n",
        "## Introduction\n",
        "\n",
        "*There might be new faces in this session, therefore I would like to write an introduction.*\n",
        "\n",
        "I am Mehmet Ali Anil, co-founder of Grus in High Tech Campus. I am a electrical engineer and physicist with particular interest on biologically inspired systems for a while now. Here are the places that you can contact me and read things I write: \n",
        "\n",
        "* Github https://github.com/mehmetalianil\n",
        "* StackOverflow https://stackexchange.com/users/462542/mehmet-ali-anil\n",
        "* LinkedIn https://www.linkedin.com/in/mehmetalianil/\n",
        "* Our blog https://blog.grusbv.com/\n",
        "* Twitter https://twitter.com/maanil_ee \n",
        "* Podcast {{Work In Progress}}\n",
        "\n",
        "## Why microcontrollers? Isn't this the job for\n",
        "I am personally intrigued by the idea of simple microcontrollers that are essentially everywhere. [This Quora link](https://www.quora.com/How-many-embedded-systems-are-there) states that there might be 75-100 billions of devices housing microcontrollers\n",
        "\n",
        "## Prerequisites\n",
        "\n",
        "We need a serial terminal to get our data out of our sparkfun boards.\n",
        "\n"
      ]
    },
    {
      "cell_type": "code",
      "metadata": {
        "id": "ItqYkJ0AAdG3",
        "colab_type": "code",
        "colab": {
          "base_uri": "https://localhost:8080/",
          "height": 67
        },
        "outputId": "27cc98d5-26ee-4055-c552-8618b0e13eab"
      },
      "source": [
        "# Run this command in order to download or update the dataset that we are building up from scratch!\n",
        "!gsutil -m cp -r gs://epoch-15 ./"
      ],
      "execution_count": 4,
      "outputs": [
        {
          "output_type": "stream",
          "text": [
            "Copying gs://epoch-15/zorro.csv...\n",
            "/ [1/1 files][610.9 KiB/610.9 KiB] 100% Done                                    \n",
            "Operation completed over 1 objects/610.9 KiB.                                    \n"
          ],
          "name": "stdout"
        }
      ]
    }
  ]
}